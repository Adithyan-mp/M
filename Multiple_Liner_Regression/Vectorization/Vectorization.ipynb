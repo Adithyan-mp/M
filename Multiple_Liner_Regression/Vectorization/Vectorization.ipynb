{
 "cells": [
  {
   "cell_type": "code",
   "execution_count": 23,
   "metadata": {},
   "outputs": [],
   "source": [
    "import numpy as np\n",
    "import time"
   ]
  },
  {
   "cell_type": "code",
   "execution_count": 24,
   "metadata": {},
   "outputs": [],
   "source": [
    "x=np.arange(10000)\n",
    "y=np.arange(10000)"
   ]
  },
  {
   "cell_type": "code",
   "execution_count": 47,
   "metadata": {},
   "outputs": [],
   "source": [
    "def dot(a, b): \n",
    "    x=0\n",
    "    for i in range(10000):\n",
    "        x+=  a[i] * b[i]\n",
    "    return x"
   ]
  },
  {
   "cell_type": "code",
   "execution_count": 48,
   "metadata": {},
   "outputs": [
    {
     "name": "stdout",
     "output_type": "stream",
     "text": [
      "answer using for loop : -1724114088 time is : 0.007231473922729492 \n"
     ]
    },
    {
     "name": "stderr",
     "output_type": "stream",
     "text": [
      "C:\\Users\\adith\\AppData\\Local\\Temp\\ipykernel_22000\\3776104264.py:4: RuntimeWarning: overflow encountered in long_scalars\n",
      "  x+=  a[i] * b[i]\n"
     ]
    }
   ],
   "source": [
    "start_time=time.time()\n",
    "ans_for=dot(x,y)\n",
    "end_time=time.time()\n",
    "print(f\"answer using for loop : {ans_for} time is : {end_time-start_time} \")"
   ]
  },
  {
   "cell_type": "code",
   "execution_count": 42,
   "metadata": {},
   "outputs": [
    {
     "name": "stdout",
     "output_type": "stream",
     "text": [
      "answer using np dot loop : -1724114088 time is : 0.0\n"
     ]
    }
   ],
   "source": [
    "start_time=time.time()\n",
    "ans=np.dot(x,y)\n",
    "end_time=time.time()\n",
    "print(f\"answer using np dot loop : {ans} time is : {end_time-start_time}\")"
   ]
  }
 ],
 "metadata": {
  "kernelspec": {
   "display_name": "Python 3",
   "language": "python",
   "name": "python3"
  },
  "language_info": {
   "codemirror_mode": {
    "name": "ipython",
    "version": 3
   },
   "file_extension": ".py",
   "mimetype": "text/x-python",
   "name": "python",
   "nbconvert_exporter": "python",
   "pygments_lexer": "ipython3",
   "version": "3.10.10"
  }
 },
 "nbformat": 4,
 "nbformat_minor": 2
}
